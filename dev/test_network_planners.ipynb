{
 "cells": [
  {
   "cell_type": "code",
   "execution_count": null,
   "metadata": {
    "collapsed": true,
    "is_executing": true
   },
   "outputs": [],
   "source": [
    "import numpy as np\n",
    "from rdkit import Chem\n",
    "from openfe_benchmarks import hif2a\n",
    "from kartograf import KartografAtomMapper\n",
    "from konnektor.visualization import draw_ligand_network\n",
    "from openfe.setup.atom_mapping.lomap_scorers import default_lomap_score\n",
    "\n",
    "system= hif2a.get_system()\n",
    "compounds = system.ligand_components\n",
    "compounds = list(filter(lambda x: not x.name in [\"lig_2\", \"lig_3\", \"lig_4\", \"lig_7\"], compounds))\n",
    "Chem.Draw.MolsToGridImage ([c.to_rdkit() for c in compounds], )"
   ]
  },
  {
   "cell_type": "code",
   "execution_count": null,
   "outputs": [],
   "source": [
    "from kartograf.atom_mapper import KartografAtomMapper\n",
    "\n",
    "mapper = KartografAtomMapper()\n",
    "\n",
    "mappings = []\n",
    "for cA in compounds:\n",
    "    for cB in compounds:\n",
    "        mapping = next(mapper.suggest_mappings(cA, cB))\n",
    "        mappings.append(mapping)\n",
    "\n",
    "mappings\n",
    "\n"
   ],
   "metadata": {
    "collapsed": false,
    "is_executing": true
   }
  },
  {
   "cell_type": "markdown",
   "source": [
    "# Radial Network Layout"
   ],
   "metadata": {
    "collapsed": false
   }
  },
  {
   "cell_type": "code",
   "execution_count": null,
   "outputs": [],
   "source": [
    "from konnektor.network_planners import RadialLigandNetworkPlanner\n",
    "ligand_network_planner = RadialLigandNetworkPlanner(mapper=KartografAtomMapper(), scorer=default_lomap_score)"
   ],
   "metadata": {
    "collapsed": false,
    "is_executing": true
   }
  },
  {
   "cell_type": "code",
   "execution_count": null,
   "outputs": [],
   "source": [
    "radial_network = ligand_network_planner(compounds)\n",
    "radial_network.name=\"Radial\"\n",
    "radial_network"
   ],
   "metadata": {
    "collapsed": false,
    "is_executing": true
   }
  },
  {
   "cell_type": "code",
   "execution_count": null,
   "outputs": [],
   "source": [
    "fig = draw_ligand_network(radial_network, title=\"Radial Graph\");\n",
    "fig.savefig(radial_network.name+\"_Network.png\")\n",
    "fig.show()"
   ],
   "metadata": {
    "collapsed": false,
    "is_executing": true
   }
  },
  {
   "cell_type": "markdown",
   "source": [
    "## Starry Sky Network Layout"
   ],
   "metadata": {
    "collapsed": false
   }
  },
  {
   "cell_type": "code",
   "execution_count": null,
   "outputs": [],
   "source": [
    "from konnektor.network_planners import StarrySkyLigandNetworkPlanner\n",
    "ligand_network_planner = StarrySkyLigandNetworkPlanner(mapper=KartografAtomMapper(), \n",
    "                                                       scorer=default_lomap_score, \n",
    "                                                       target_node_connectivity=3)"
   ],
   "metadata": {
    "collapsed": false,
    "is_executing": true
   }
  },
  {
   "cell_type": "code",
   "execution_count": null,
   "outputs": [],
   "source": [
    "starry_sky_network = ligand_network_planner(compounds)\n",
    "starry_sky_network.name=\"Starry Sky\"\n",
    "starry_sky_network"
   ],
   "metadata": {
    "collapsed": false,
    "is_executing": true
   }
  },
  {
   "cell_type": "markdown",
   "source": [
    "# Minimal Spanning Tree"
   ],
   "metadata": {
    "collapsed": false
   }
  },
  {
   "cell_type": "code",
   "execution_count": null,
   "outputs": [],
   "source": [
    "from konnektor.network_planners import MinimalSpanningTreeLigandNetworkPlanner\n",
    "\n",
    "ligand_network_planner = MinimalSpanningTreeLigandNetworkPlanner(mapper=KartografAtomMapper(), scorer=default_lomap_score)"
   ],
   "metadata": {
    "collapsed": false,
    "is_executing": true
   }
  },
  {
   "cell_type": "code",
   "execution_count": null,
   "outputs": [],
   "source": [
    "mst_network = ligand_network_planner(compounds)\n",
    "mst_network.name=\"MST\"\n",
    "mst_network"
   ],
   "metadata": {
    "collapsed": false,
    "is_executing": true
   }
  },
  {
   "cell_type": "code",
   "execution_count": null,
   "outputs": [],
   "source": [
    "fig = draw_ligand_network(mst_network, \"MST\");\n",
    "fig.savefig(\"MST_Network.png\")\n",
    "fig.show()"
   ],
   "metadata": {
    "collapsed": false,
    "is_executing": true
   }
  },
  {
   "cell_type": "markdown",
   "source": [
    "# Cyclo Graphs"
   ],
   "metadata": {
    "collapsed": false
   }
  },
  {
   "cell_type": "code",
   "execution_count": null,
   "outputs": [],
   "source": [
    "from konnektor.network_planners import CyclicLigandNetworkPlanner\n",
    "ligand_network_planner = CyclicLigandNetworkPlanner(mapper=KartografAtomMapper(), scorer=default_lomap_score,\n",
    "                                                    cycle_sizes=3, node_present_in_cycles=2)"
   ],
   "metadata": {
    "collapsed": false,
    "is_executing": true
   }
  },
  {
   "cell_type": "code",
   "execution_count": null,
   "outputs": [],
   "source": [
    "cyclic_network = ligand_network_planner(compounds)\n",
    "cyclic_network.name=\"Cyclic\"\n",
    "cyclic_network"
   ],
   "metadata": {
    "collapsed": false,
    "is_executing": true
   }
  },
  {
   "cell_type": "code",
   "execution_count": null,
   "outputs": [],
   "source": [
    "fig = draw_ligand_network(cyclic_network);\n",
    "fig.savefig(cyclic_network.name+\"_Network.png\")\n",
    "fig.show()"
   ],
   "metadata": {
    "collapsed": false,
    "is_executing": true
   }
  },
  {
   "cell_type": "markdown",
   "source": [
    "# Maximally connected network"
   ],
   "metadata": {
    "collapsed": false
   }
  },
  {
   "cell_type": "code",
   "execution_count": null,
   "outputs": [],
   "source": [
    "from konnektor.network_planners import MaximalNetworkPlanner\n",
    "ligand_network_planner = MaximalNetworkPlanner(mapper=KartografAtomMapper(), scorer=default_lomap_score)"
   ],
   "metadata": {
    "collapsed": false,
    "is_executing": true
   }
  },
  {
   "cell_type": "code",
   "execution_count": null,
   "outputs": [],
   "source": [
    "max_network = ligand_network_planner(compounds)\n",
    "max_network.name = \"Max\"\n",
    "max_network"
   ],
   "metadata": {
    "collapsed": false,
    "is_executing": true
   }
  },
  {
   "cell_type": "code",
   "execution_count": null,
   "outputs": [],
   "source": [
    "fig = draw_ligand_network(max_network);\n",
    "fig.savefig(max_network.name+\"_Network.png\")\n",
    "fig.show()"
   ],
   "metadata": {
    "collapsed": false,
    "is_executing": true
   }
  },
  {
   "cell_type": "markdown",
   "source": [
    "# Diversity Cluster Network"
   ],
   "metadata": {
    "collapsed": false
   }
  },
  {
   "cell_type": "code",
   "execution_count": null,
   "outputs": [],
   "source": [
    "from konnektor.network_planners import DiversityNetworkPlanner\n",
    "from sklearn.cluster import KMeans\n",
    "ligand_network_planner = DiversityNetworkPlanner(mapper=KartografAtomMapper(), scorer=default_lomap_score)"
   ],
   "metadata": {
    "collapsed": false,
    "is_executing": true
   }
  },
  {
   "cell_type": "code",
   "execution_count": null,
   "outputs": [],
   "source": [
    "div_network = ligand_network_planner(compounds)\n",
    "div_network.name = \"Diversity Cluster\"\n",
    "div_network"
   ],
   "metadata": {
    "collapsed": false,
    "is_executing": true
   }
  },
  {
   "cell_type": "code",
   "execution_count": null,
   "outputs": [],
   "source": [
    "fig = draw_ligand_network(div_network);\n",
    "fig.savefig(div_network.name+\"_Network.png\")\n",
    "fig.show()"
   ],
   "metadata": {
    "collapsed": false,
    "is_executing": true
   }
  },
  {
   "cell_type": "markdown",
   "source": [
    "# Summary"
   ],
   "metadata": {
    "collapsed": false
   }
  },
  {
   "cell_type": "code",
   "execution_count": null,
   "outputs": [],
   "source": [
    "fig, axes = plt.subplots(ncols=2, nrows=3, figsize=[9*2,3*9])\n",
    "axes= np.array(axes).flat\n",
    "\n",
    "fs = 22\n",
    "for ax, net in zip(axes, [max_network, radial_network, mst_network, cyclic_network, div_network]):\n",
    "    draw_ligand_network(network=net, title=net.name, ax=ax, node_size=1500)\n",
    "    ax.axis(\"off\")\n",
    "axes[-1].axis(\"off\")\n",
    "\n"
   ],
   "metadata": {
    "collapsed": false,
    "is_executing": true
   }
  },
  {
   "cell_type": "code",
   "execution_count": null,
   "outputs": [],
   "source": [
    "#fig.savefig(\"../.img/network_layouts.png\", dpi=400)"
   ],
   "metadata": {
    "collapsed": false,
    "is_executing": true
   }
  },
  {
   "cell_type": "code",
   "execution_count": null,
   "outputs": [],
   "source": [
    "import openfe_benchmarks\n",
    "dir(openfe_benchmarks)"
   ],
   "metadata": {
    "collapsed": false,
    "is_executing": true
   }
  },
  {
   "cell_type": "markdown",
   "source": [
    "## in one cell:"
   ],
   "metadata": {
    "collapsed": false
   }
  },
  {
   "cell_type": "code",
   "execution_count": null,
   "outputs": [],
   "source": [
    "import logging\n",
    "import datetime\n",
    "import numpy as np\n",
    "from matplotlib import pyplot as plt\n",
    "from openfe_benchmarks import benzenes, hif2a, tyk2, p38, ptp1b, tnsk2, thrombin, cmet\n",
    "from kartograf import KartografAtomMapper\n",
    "from kartograf.atom_mapper import log\n",
    "log.setLevel(logging.ERROR)\n",
    "\n",
    "from konnektor.network_connecting_algorithms.bipartite_MST_connect import log\n",
    "log.setLevel(logging.ERROR)\n",
    "from kartograf.atom_align import align_mol_shape\n",
    "from konnektor.visualization import draw_ligand_network\n",
    "from openfe.setup.atom_mapping.lomap_scorers import default_lomap_score\n",
    "\n",
    "tset=[benzenes, hif2a,\n",
    "    tyk2, p38,\n",
    "    ptp1b, tnsk2,\n",
    "    thrombin,\n",
    "    cmet]\n",
    "for ts in tset:\n",
    "\n",
    "    s = ts.get_system()\n",
    "    compounds = list(filter(lambda x: not x.name in [\"lig_2\", \"lig_3\", \"lig_4\", \"lig_7\"],\n",
    "                        s.ligand_components))\n",
    "    from konnektor.network_planners import (MaximalNetworkPlanner, RadialLigandNetworkPlanner,\n",
    "                                            MinimalSpanningTreeLigandNetworkPlanner, CyclicLigandNetworkPlanner, DiversityNetworkPlanner)\n",
    "\n",
    "    networkers = [MaximalNetworkPlanner,\n",
    "                  RadialLigandNetworkPlanner,\n",
    "                  MinimalSpanningTreeLigandNetworkPlanner,\n",
    "                  CyclicLigandNetworkPlanner, DiversityNetworkPlanner]\n",
    "\n",
    "\n",
    "    networks = []\n",
    "    for networker_cls, name in zip(networkers,[\"Max\",\n",
    "                                               \"Radial\", \"MST\",\n",
    "                                               \"Cyclic\", \"Div\"]):\n",
    "        try:\n",
    "            start_time = datetime.datetime.now()\n",
    "            networker = networker_cls(mapper=KartografAtomMapper(), scorer=default_lomap_score,)\n",
    "            networker.progress =False\n",
    "            network = networker.generate_ligand_network(compounds)\n",
    "            end_time = datetime.datetime.now()\n",
    "            network.name=name\n",
    "\n",
    "            networks.append(network)\n",
    "            duration =  end_time-start_time\n",
    "\n",
    "            print( \"{:<6}\\t{:>12}\\t{:>4}\\t\\t{:6>}\\t{:6>}\".format(name, s.system_name,str(len(compounds)), duration.seconds, np.round(sum([e.annotations[\"score\"] for e in list(network.edges)]),2)))\n",
    "        except:\n",
    "            print()\n",
    "\n",
    "    #Visualize\n",
    "    fig, axes = plt.subplots(ncols=2, nrows=3, figsize=[16,3*9])\n",
    "    axes= np.array(axes).flat\n",
    "    fs=22\n",
    "    for ax, net in zip(axes, networks):\n",
    "        draw_ligand_network(network=net, title=net.name, ax=ax, node_size=1500, fontsize=fs)\n",
    "        ax.axis(\"off\")\n",
    "\n",
    "    axes[-1].axis(\"off\")\n",
    "    #fig.show()\n",
    "    fig.savefig(s.system_name+\"_networks.png\", dpi=400)"
   ],
   "metadata": {
    "collapsed": false,
    "is_executing": true
   }
  },
  {
   "cell_type": "code",
   "execution_count": null,
   "outputs": [],
   "source": [],
   "metadata": {
    "collapsed": false,
    "is_executing": true
   }
  },
  {
   "cell_type": "code",
   "execution_count": null,
   "outputs": [],
   "source": [],
   "metadata": {
    "collapsed": false,
    "is_executing": true
   }
  }
 ],
 "metadata": {
  "kernelspec": {
   "display_name": "Python 3",
   "language": "python",
   "name": "python3"
  },
  "language_info": {
   "codemirror_mode": {
    "name": "ipython",
    "version": 2
   },
   "file_extension": ".py",
   "mimetype": "text/x-python",
   "name": "python",
   "nbconvert_exporter": "python",
   "pygments_lexer": "ipython2",
   "version": "2.7.6"
  }
 },
 "nbformat": 4,
 "nbformat_minor": 0
}
