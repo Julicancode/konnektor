{
 "cells": [
  {
   "cell_type": "code",
   "execution_count": null,
   "outputs": [],
   "source": [
    "import datetime\n",
    "import random\n",
    "import numpy as np\n",
    "\n",
    "#Test Data:\n",
    "nnodes = 10\n",
    "nodes = list(range(nnodes))\n",
    "edges = [(x,y) for i, x in enumerate(nodes) for y in nodes[i+1:]]\n",
    "weights = np.random.random_sample(len(edges))\n",
    "\n",
    "import networkx as nx\n",
    "\n",
    "# build Edges:\n",
    "w_edges = []\n",
    "nodes = []\n",
    "for e, w in zip(edges, weights):\n",
    "    w_edges.append((e[0], e[1], w))\n",
    "    w_edges.append((e[1], e[0], w))\n",
    "    nodes.extend(e)\n",
    "nodes = list(set(nodes))\n"
   ],
   "metadata": {
    "collapsed": false
   }
  },
  {
   "cell_type": "code",
   "execution_count": null,
   "outputs": [],
   "source": [
    "from konnektor.network_generator_algorithms import CyclicNetworkGenerator\n",
    "\n",
    "# Settings\n",
    "#cyclesize = list(range(3,5+1))\n",
    "#cyclesize = len(nodes)-1 # try to keep small!\n",
    "sub_cycle_size_range = 3\n",
    "node_cycle_connectivity = 2 #a node should be at least in n cycles\n",
    "network_planner = CyclicNetworkGenerator(node_cycle_connectivity=node_cycle_connectivity, sub_cycle_size_range=sub_cycle_size_range)\n",
    "\n",
    "\n",
    "#cg = network_planner.generate_network_double_greedy(edges=edges, weights=weights)\n",
    "cg = network_planner.generate_network(edges=edges, weights=weights)\n",
    "#len(cdg.edges), len(edges)"
   ],
   "metadata": {
    "collapsed": false
   }
  },
  {
   "cell_type": "code",
   "execution_count": null,
   "outputs": [],
   "source": [
    "from konnektor import visualization\n",
    "ofe_colors = visualization.ofe_colors\n",
    "\n",
    "from matplotlib import colors\n",
    "\n",
    "def color_gradient(c1=ofe_colors[2], c2=ofe_colors[1], mix=0):\n",
    "    c1=np.array(c1)\n",
    "    c2=np.array(c2)\n",
    "    mix = np.array(mix, ndmin=1)\n",
    "    return np.array(list(map(lambda m: (1-m)*c1 + m*c2, mix )))\n",
    "\n",
    "def get_node_connectivities(cg):\n",
    "    return [sum([n in e for e in cg.edges]) for n in cg.nodes]\n",
    "\n"
   ],
   "metadata": {
    "collapsed": false
   }
  },
  {
   "cell_type": "code",
   "execution_count": null,
   "outputs": [],
   "source": [
    "import networkx as nx\n",
    "from matplotlib import pyplot as plt\n",
    "\n",
    "cg = network_planner.generate_network(edges=edges, weights=weights)\n",
    "\n",
    "fig, axes = plt.subplots(ncols=2, nrows=1, figsize=[12,6])\n",
    "nx.draw_networkx(network_planner.orig_g, with_labels=True, ax=axes[0], node_color=ofe_colors[-1], edge_color=ofe_colors[3], font_color=[1,1,1]\n",
    ")\n",
    "\n",
    "connectivities = np.array(get_node_connectivities(cg))\n",
    "mixins = connectivities / np.mean(connectivities)\n",
    "cs = color_gradient(mix=mixins)\n",
    "print(mixins)\n",
    "\n",
    "nx.draw_networkx(cg, with_labels=True, ax=axes[1],node_color=cs, edge_color=ofe_colors[3], font_color=[1,1,1]\n",
    ")\n",
    "\n",
    "axes[0].set_title(\"fully connected graph\"+\" #edges \"+str(len(network_planner.orig_g.edges)))\n",
    "axes[1].set_title(\"node in cycles \"+str(network_planner.node_cycle_connectivity)+\", cycle_size \"+str(network_planner.sub_cycle_size_range)+\" #edges \"+str(len(cg.edges)))\n",
    "fig.suptitle(\"Algorithm II\")"
   ],
   "metadata": {
    "collapsed": false
   }
  },
  {
   "cell_type": "code",
   "execution_count": null,
   "outputs": [],
   "source": [
    "import networkx as nx\n",
    "from matplotlib import pyplot as plt\n",
    "\n",
    "cg = network_planner.generate_network_double_greedy(edges=edges, weights=weights)\n",
    "\n",
    "fig, axes = plt.subplots(ncols=2, nrows=1, figsize=[16,9])\n",
    "nx.draw_networkx(network_planner.orig_g, with_labels=True, ax=axes[0])\n",
    "\n",
    "connectivities = np.array(get_node_connectivities(cg))\n",
    "mixins = connectivities / np.mean(connectivities)\n",
    "cs = color_gradient(mix=mixins)\n",
    "print(mixins)\n",
    "\n",
    "nx.draw_networkx(cg, with_labels=True, ax=axes[1])\n",
    "\n",
    "\n",
    "axes[0].set_title(\"fully connected graph\"+\" #edges \"+str(len(network_planner.orig_g.edges)))\n",
    "axes[1].set_title(\"node in cycles \"+str(network_planner.node_cycle_connectivity)+\", cycle_size \"+str(network_planner.sub_cycle_size_range)+\" #edges \"+str(len(cg.edges)))\n",
    "fig.suptitle(\"Algorithm I\")"
   ],
   "metadata": {
    "collapsed": false
   }
  },
  {
   "cell_type": "code",
   "execution_count": null,
   "outputs": [],
   "source": [
    "#Test Data:\n",
    "nnodes = 8\n",
    "nodes = list(range(nnodes))\n",
    "edges = [(x,y) for i, x in enumerate(nodes) for y in nodes[i+1:]]\n",
    "weights = np.random.random_sample(len(edges))\n",
    "\n",
    "import networkx as nx\n",
    "\n",
    "# build Edges:\n",
    "w_edges = []\n",
    "nodes = []\n",
    "for e, w in zip(edges, weights):\n",
    "    w_edges.append((e[0], e[1], w))\n",
    "    w_edges.append((e[1], e[0], w))\n",
    "    nodes.extend(e)\n",
    "nodes = list(set(nodes))"
   ],
   "metadata": {
    "collapsed": false
   }
  },
  {
   "cell_type": "code",
   "execution_count": null,
   "outputs": [],
   "source": [
    " #Benchmark - Hyper Param test\n",
    "from tqdm import tqdm\n",
    "sub_cycle_size_ranges = range(3, 8)\n",
    "node_cycle_connectivitys = range(1,8)\n",
    "\n",
    "orig_g = network_planner.orig_g\n",
    "gs = []\n",
    "for sub_cycle_size_range in tqdm(sub_cycle_size_ranges, desc=\"cycle size\"):\n",
    "    gs.append(orig_g)\n",
    "    for node_cycle_connectivity in node_cycle_connectivitys: #tqdm(node_cycle_connectivitys, desc=\"node connect\", leave=False):\n",
    "        network_planner = CyclicNetworkGenerator(node_cycle_connectivity=node_cycle_connectivity, sub_cycle_size_range=sub_cycle_size_range)\n",
    "        gs.append(network_planner.generate_network(edges=edges, weights=weights))\n",
    "        #print(network_planner._selected_cycles)"
   ],
   "metadata": {
    "collapsed": false
   }
  },
  {
   "cell_type": "code",
   "execution_count": null,
   "outputs": [],
   "source": [
    "import numpy as np\n",
    "import networkx as nx\n",
    "from matplotlib import pyplot as plt\n",
    "\n",
    "cols = len(node_cycle_connectivitys)+1\n",
    "rows= len(sub_cycle_size_ranges)\n",
    "fig, axes = plt.subplots(ncols=cols, nrows=rows, figsize=[30,16])\n",
    "\n",
    "gi = 0\n",
    "for i, rax in enumerate(axes):\n",
    "    for j, ax in enumerate(rax):\n",
    "        g = gs[gi]\n",
    "        nx.draw_networkx(g, with_labels=True, ax=ax)\n",
    "        if(j==0):\n",
    "            ax.set_title(\"fully connected graph, #edges \"+str(len(g.edges)))\n",
    "        else:\n",
    "            ax.set_title(\"node in cycles \"+str(node_cycle_connectivitys[j-1])+\", cycle_size \"+str(sub_cycle_size_ranges[i])+\", #edges \"+str(len(g.edges)), fontsize=10)\n",
    "        gi+=1\n"
   ],
   "metadata": {
    "collapsed": false
   }
  },
  {
   "cell_type": "code",
   "execution_count": null,
   "outputs": [],
   "source": [
    " #Benchmark - Hyper Param test\n",
    "from tqdm import tqdm\n",
    "sub_cycle_size_ranges = range(3, 8)\n",
    "node_cycle_connectivitys = range(1,8)\n",
    "\n",
    "orig_g = network_planner.orig_g\n",
    "gs = []\n",
    "for sub_cycle_size_range in tqdm(sub_cycle_size_ranges, desc=\"cycle size\"):\n",
    "    gs.append(orig_g)\n",
    "    for node_cycle_connectivity in tqdm(node_cycle_connectivitys, desc=\"node connect\", leave=False):\n",
    "        network_planner = CyclicNetworkGenerator(node_cycle_connectivity=node_cycle_connectivity, sub_cycle_size_range=sub_cycle_size_range)\n",
    "        gs.append(network_planner.generate_network_double_greedy(edges=edges, weights=weights))\n",
    "        #print(network_planner._selected_cycles)"
   ],
   "metadata": {
    "collapsed": false
   }
  },
  {
   "cell_type": "code",
   "execution_count": null,
   "outputs": [],
   "source": [
    "import numpy as np\n",
    "import networkx as nx\n",
    "from matplotlib import pyplot as plt\n",
    "\n",
    "cols = len(node_cycle_connectivitys)+1\n",
    "rows= len(sub_cycle_size_ranges)\n",
    "fig, axes = plt.subplots(ncols=cols, nrows=rows, figsize=[30,16])\n",
    "\n",
    "gi = 0\n",
    "for i, rax in enumerate(axes):\n",
    "    for j, ax in enumerate(rax):\n",
    "        g = gs[gi]\n",
    "        gi+=1\n",
    "\n",
    "        if(g is None):\n",
    "            continue\n",
    "        else:\n",
    "            nx.draw_networkx(g, with_labels=True, ax=ax)\n",
    "            if(j==0):\n",
    "                ax.set_title(\"fully connected graph, #edges \"+str(len(g.edges)))\n",
    "            else:\n",
    "                ax.set_title(\"node in cycles \"+str(node_cycle_connectivitys[j-1])+\", cycle_size \"+str(sub_cycle_size_ranges[i])+\", #edges \"+str(len(g.edges)), fontsize=10)\n",
    "\n"
   ],
   "metadata": {
    "collapsed": false
   }
  },
  {
   "cell_type": "code",
   "execution_count": null,
   "outputs": [],
   "source": [
    "import datetime\n",
    "import numpy as np\n",
    "\n",
    "sub_cycle_size_range = 3\n",
    "node_cycle_connectivity = 2 #a node should be at least in n cycles\n",
    "\n",
    "#Test Data: $\n",
    "steps = [ 90, 100, 300,] # 500, 700, 1000] #\n",
    "cgs=[]\n",
    "for n in steps: #range(10, 81, 10):\n",
    "    print(\"Number of nodes:\", n)\n",
    "    nodes = (range(n))\n",
    "    edges = [(x,y) for i, x in enumerate(nodes) for y in nodes[i+1:]]\n",
    "    weights = np.random.random_sample(len(edges))\n",
    "\n",
    "    network_planner = CyclicNetworkGenerator(node_cycle_connectivity=node_cycle_connectivity, sub_cycle_size_range=sub_cycle_size_range)\n",
    "\n",
    "    start = datetime.datetime.now()\n",
    "    cg = network_planner.generate_network_double_greedy(edges=edges, weights=weights)\n",
    "    end = datetime.datetime.now()\n",
    "    print(\"DG Number of edges:\", len(network_planner.orig_g.edges))\n",
    "    print(\"DG Number of edges:\", len(cg.edges))\n",
    "    print(\"DG Graph Score: \", round(sum([weights[edges.index(e)] for e in cg.edges]),2), np.round( sum([weights[edges.index(e)] for e in cg.edges])/sum(weights),2))\n",
    "    print(\"Duration\", end-start)\n",
    "    print(\"-\")\n",
    "    start = datetime.datetime.now()\n",
    "    cg2 = network_planner.generate_network(edges=edges, weights=weights)\n",
    "    end = datetime.datetime.now()\n",
    "\n",
    "    print(\"G Number of edges:\", len(network_planner.orig_g.edges))\n",
    "    print(\"G Number of edges:\", len(cg.edges))\n",
    "    print(\"G Graph Score: \", round(sum([weights[edges.index(e)] for e in cg.edges]),2), np.round( sum([weights[edges.index(e)] for e in cg.edges])/sum(weights),2))\n",
    "    print(\"Duration\", end-start)\n",
    "\n",
    "    cgs.append([network_planner.orig_g, cg, cg2])\n",
    "\n",
    "    print()"
   ],
   "metadata": {
    "collapsed": false,
    "pycharm": {
     "is_executing": true
    }
   }
  },
  {
   "cell_type": "code",
   "execution_count": null,
   "outputs": [],
   "source": [
    "rax"
   ],
   "metadata": {
    "collapsed": false
   }
  },
  {
   "cell_type": "code",
   "execution_count": null,
   "outputs": [],
   "source": [
    "import numpy as np\n",
    "import networkx as nx\n",
    "from matplotlib import pyplot as plt\n",
    "\n",
    "cols = len(node_cycle_connectivitys)+1\n",
    "rows= len(sub_cycle_size_ranges)\n",
    "fig, axes = plt.subplots(ncols=3, nrows=len(cgs), figsize=[16, 40])\n",
    "\n",
    "gi = 0\n",
    "for i, rax in enumerate(axes):\n",
    "    ax1, ax2, ax3 = rax\n",
    "    gs = cgs[gi]\n",
    "    nx.draw_networkx(gs[0], with_labels=True, ax=ax1)\n",
    "    nx.draw_networkx(gs[1], with_labels=True, ax=ax2)\n",
    "    nx.draw_networkx(gs[2], with_labels=True, ax=ax3)\n",
    "\n",
    "    ax1.set_title(\"fully connected graph, #nodes\"+str(len(gs[0].nodes))+\" #edges \"+str(len(gs[0].edges)))\n",
    "    ax2.set_title(\"node in cycles \"+str(node_cycle_connectivity)+\", cycle_size \"+str(sub_cycle_size_range)+\", #edges \"+str(len(gs[1].edges)), fontsize=10)\n",
    "    gi+=1\n",
    "\n"
   ],
   "metadata": {
    "collapsed": false
   }
  },
  {
   "cell_type": "code",
   "execution_count": null,
   "outputs": [],
   "source": [],
   "metadata": {
    "collapsed": false
   }
  }
 ],
 "metadata": {
  "kernelspec": {
   "name": "openfe",
   "language": "python",
   "display_name": "openfe"
  },
  "language_info": {
   "codemirror_mode": {
    "name": "ipython",
    "version": 2
   },
   "file_extension": ".py",
   "mimetype": "text/x-python",
   "name": "python",
   "nbconvert_exporter": "python",
   "pygments_lexer": "ipython2",
   "version": "2.7.6"
  }
 },
 "nbformat": 4,
 "nbformat_minor": 0
}
