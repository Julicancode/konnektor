{
 "cells": [
  {
   "cell_type": "code",
   "execution_count": 1,
   "metadata": {
    "collapsed": true,
    "ExecuteTime": {
     "start_time": "2023-06-17T12:18:58.720987Z",
     "end_time": "2023-06-17T12:18:58.814290Z"
    }
   },
   "outputs": [],
   "source": [
    "import random\n",
    "import numpy as np\n",
    "\n",
    "#Test Data:\n",
    "nodes = (range(10))\n",
    "edges = [(x,y) for i, x in enumerate(nodes) for y in nodes[i+1:]]\n",
    "weights = np.random.random_sample(len(edges))\n"
   ]
  },
  {
   "cell_type": "code",
   "execution_count": 3,
   "outputs": [
    {
     "data": {
      "text/plain": "[((0, 1), 0.06542438622748636),\n ((0, 2), 0.6075621624028055),\n ((0, 3), 0.45986857623039534),\n ((0, 4), 0.420084268364753),\n ((0, 5), 0.06005234473647991),\n ((0, 6), 0.6419573322697184),\n ((0, 7), 0.6917337777827218),\n ((0, 8), 0.8991916498222096),\n ((0, 9), 0.6526645149216026),\n ((1, 2), 0.8344244511948719),\n ((1, 3), 0.5351219216346282),\n ((1, 4), 0.16019952002900206),\n ((1, 5), 0.5077828006883809),\n ((1, 6), 0.35719921580149383),\n ((1, 7), 0.4528247476136057),\n ((1, 8), 0.3117072760806301),\n ((1, 9), 0.6701955938568895),\n ((2, 3), 0.8985679219834379),\n ((2, 4), 0.011612508306927949),\n ((2, 5), 0.9210581554647803),\n ((2, 6), 0.36934479008883303),\n ((2, 7), 0.8752242788158183),\n ((2, 8), 0.6352362867970449),\n ((2, 9), 0.6840716228310887),\n ((3, 4), 0.9689688034562902),\n ((3, 5), 0.9012167125155531),\n ((3, 6), 0.16921284734753117),\n ((3, 7), 0.4130059043931059),\n ((3, 8), 0.6852323486795111),\n ((3, 9), 0.7464890008259588),\n ((4, 5), 0.4437051135702451),\n ((4, 6), 0.1269735792469877),\n ((4, 7), 0.8605584098207207),\n ((4, 8), 0.879760041934386),\n ((4, 9), 0.2079288538124494),\n ((5, 6), 0.4646862165325165),\n ((5, 7), 0.7014691376708094),\n ((5, 8), 0.8668739413575366),\n ((5, 9), 0.5855684668976482),\n ((6, 7), 0.34847846147631645),\n ((6, 8), 0.5269490804086393),\n ((6, 9), 0.5646409438328828),\n ((7, 8), 0.1650090554085435),\n ((7, 9), 0.08009189704578168),\n ((8, 9), 0.9388684944090282)]"
     },
     "execution_count": 3,
     "metadata": {},
     "output_type": "execute_result"
    }
   ],
   "source": [],
   "metadata": {
    "collapsed": false,
    "ExecuteTime": {
     "start_time": "2023-06-17T12:20:00.860170Z",
     "end_time": "2023-06-17T12:20:00.958574Z"
    }
   }
  },
  {
   "cell_type": "code",
   "execution_count": 20,
   "outputs": [],
   "source": [
    "nodes = set([n for e in edges for n in e])\n",
    "edge_weights = list(zip(edges, weights))\n",
    "\n",
    "node_scores = {n:[e_s[1] for e_s in edge_weights if(n in e_s[0])] for n in nodes}\n",
    "aggregated_scores =  list(map(lambda x: (x[0], np.sum(x[1])), node_scores.items()))\n",
    "sorted_node_scores = list(sorted(aggregated_scores, key=lambda x: x[1]))\n",
    "\n",
    "opt_node = sorted_node_scores[0]"
   ],
   "metadata": {
    "collapsed": false,
    "ExecuteTime": {
     "start_time": "2023-06-17T12:28:26.049388Z",
     "end_time": "2023-06-17T12:28:26.085166Z"
    }
   }
  },
  {
   "cell_type": "code",
   "execution_count": 21,
   "outputs": [
    {
     "data": {
      "text/plain": "(6, 3.569442467004919)"
     },
     "execution_count": 21,
     "metadata": {},
     "output_type": "execute_result"
    }
   ],
   "source": [
    "opt_node"
   ],
   "metadata": {
    "collapsed": false,
    "ExecuteTime": {
     "start_time": "2023-06-17T12:28:26.748485Z",
     "end_time": "2023-06-17T12:28:26.759546Z"
    }
   }
  },
  {
   "cell_type": "code",
   "execution_count": 22,
   "outputs": [
    {
     "data": {
      "text/plain": "[(6, 3.569442467004919),\n (1, 3.8948799131269887),\n (4, 4.079791098541762),\n (0, 4.498539012758172),\n (7, 4.588395670027424),\n (9, 5.1305193884333296),\n (5, 5.452412889433949),\n (3, 5.777684037066411),\n (2, 5.837102177885608),\n (8, 5.908828174897529)]"
     },
     "execution_count": 22,
     "metadata": {},
     "output_type": "execute_result"
    }
   ],
   "source": [
    "sorted_node_scores"
   ],
   "metadata": {
    "collapsed": false,
    "ExecuteTime": {
     "start_time": "2023-06-17T12:28:28.302887Z",
     "end_time": "2023-06-17T12:28:28.350868Z"
    }
   }
  },
  {
   "cell_type": "code",
   "execution_count": null,
   "outputs": [],
   "source": [],
   "metadata": {
    "collapsed": false
   }
  },
  {
   "cell_type": "code",
   "execution_count": 56,
   "outputs": [
    {
     "data": {
      "text/plain": "array([0.67228528, 0.88704112, 0.28363927, 0.18930416, 0.36046121,\n       0.55989938, 0.90857385, 0.18298343, 0.67391748, 0.93772903,\n       0.09259588, 0.1475056 , 0.53174639, 0.94771923, 0.97111005,\n       0.92639911, 0.89911151, 0.64948178, 0.50355621, 0.21177283,\n       0.25994008, 0.4885502 , 0.79714554, 0.68526026, 0.80726021,\n       0.83678855, 0.97036511, 0.45434072, 0.88956458, 0.81684682,\n       0.13607466, 0.43009891, 0.55461821, 0.84454602, 0.68297752,\n       0.62136264, 0.31055492, 0.27441244, 0.52073983, 0.88681204,\n       0.11743926, 0.14752976, 0.38073223, 0.33921555, 0.63993298,\n       0.01335045, 0.98297775, 0.98912535, 0.96485771, 0.36979572,\n       0.22765425, 0.8240532 , 0.8887896 , 0.60373152, 0.29108848,\n       0.13580407, 0.51264741, 0.46284338, 0.65382466, 0.16031246,\n       0.97987298, 0.81442404, 0.40325192, 0.78550559, 0.58435105,\n       0.68644873, 0.33133847, 0.16120023, 0.47757375, 0.2812506 ,\n       0.53229224, 0.41262289, 0.44036263, 0.44435461, 0.7582219 ,\n       0.93425026, 0.49296315, 0.49941761, 0.34544961, 0.07561131,\n       0.7259663 , 0.69380351, 0.70402784, 0.88758715, 0.06405435,\n       0.17836704, 0.47734747, 0.97780931, 0.77836164, 0.42552136,\n       0.07705238, 0.92810107, 0.07658496, 0.76583739, 0.84007304,\n       0.58732197, 0.33777408, 0.39323039, 0.94059701, 0.02826642])"
     },
     "execution_count": 56,
     "metadata": {},
     "output_type": "execute_result"
    }
   ],
   "source": [
    "np.random.random_sample(100)\n"
   ],
   "metadata": {
    "collapsed": false,
    "ExecuteTime": {
     "start_time": "2023-06-19T21:27:12.794058Z",
     "end_time": "2023-06-19T21:27:12.869298Z"
    }
   }
  },
  {
   "cell_type": "code",
   "execution_count": null,
   "outputs": [],
   "source": [],
   "metadata": {
    "collapsed": false
   }
  }
 ],
 "metadata": {
  "kernelspec": {
   "display_name": "Python 3",
   "language": "python",
   "name": "python3"
  },
  "language_info": {
   "codemirror_mode": {
    "name": "ipython",
    "version": 2
   },
   "file_extension": ".py",
   "mimetype": "text/x-python",
   "name": "python",
   "nbconvert_exporter": "python",
   "pygments_lexer": "ipython2",
   "version": "2.7.6"
  }
 },
 "nbformat": 4,
 "nbformat_minor": 0
}
