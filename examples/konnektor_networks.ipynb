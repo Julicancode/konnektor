{
 "cells": [
  {
   "cell_type": "markdown",
   "metadata": {
    "collapsed": false
   },
   "source": [
    "# Konnektor - Building Ligand Networks\n",
    "\n",
    "this is Konnektor, which you can use to construct different types of Networks."
   ]
  },
  {
   "cell_type": "raw",
   "metadata": {
    "collapsed": false
   },
   "source": [
    "# NBVAL_SKIP\n",
    "# Only run this cell if on google colab\n",
    "import os\n",
    "if \"COLAB_RELEASE_TAG\" in os.environ:\n",
    "    !pip install -U https://github.com/conda-incubator/condacolab/archive/cuda-version-12.tar.gz\n",
    "    import condacolab\n",
    "    condacolab.install_mambaforge()\n",
    "    !wget -q https://raw.githubusercontent.com/OpenFreeEnergy/konnektor/main/examples/environment.yaml\n",
    "    !mamba env update -q --name=base --file=environment.yaml\n",
    "    \n",
    "from google.colab import output\n",
    "output.enable_custom_widget_manager()"
   ]
  },
  {
   "cell_type": "code",
   "execution_count": null,
   "metadata": {
    "ExecuteTime": {
     "end_time": "2024-05-06T05:36:32.328205Z",
     "start_time": "2024-05-06T05:36:29.941516Z"
    },
    "collapsed": false
   },
   "outputs": [],
   "source": [
    "import numpy as np\n",
    "from rdkit import Chem\n",
    "\n",
    "try:\n",
    "    from kartograf import KartografAtomMapper, MappingRMSDScorer\n",
    "except ModuleNotFoundError:\n",
    "    !{sys.executable} -m pip install git+https://github.com/OpenFreeEnergy/kartograf.git\n",
    "    from kartograf import KartografAtomMapper, MappingRMSDScorer\n",
    "\n",
    "\n",
    "import logging\n",
    "from kartograf.atom_mapper import logger\n",
    "logger.setLevel(logging.ERROR)\n"
   ]
  },
  {
   "cell_type": "code",
   "execution_count": null,
   "metadata": {
    "ExecuteTime": {
     "end_time": "2024-05-06T05:36:34.015536Z",
     "start_time": "2024-05-06T05:36:32.330614Z"
    },
    "collapsed": false
   },
   "outputs": [],
   "source": [
    "from kartograf import SmallMoleculeComponent\n",
    "from konnektor.visualization import draw_ligand_network, draw_network_widget\n",
    "\n",
    "mapper = KartografAtomMapper()\n",
    "scorer = MappingRMSDScorer()\n",
    "\n",
    "from konnektor.data import get_hif2a_ligands\n",
    "compounds = get_hif2a_ligands()\n",
    "#rdmols = list(Chem.SDMolSupplier(benzenes_sdf_path, removeHs=False))\n",
    "#compounds = [SmallMoleculeComponent.from_rdkit(m) for m in rdmols]\n",
    "#compounds = list(filter(lambda x: not x.name in [\"lig_2\", \"lig_3\", \"lig_4\", \"lig_7\"], compounds))\n",
    "Chem.Draw.MolsToGridImage ([c.to_rdkit() for c in compounds], )"
   ]
  },
  {
   "cell_type": "markdown",
   "metadata": {},
   "source": [
    "# Radial Network Layout"
   ]
  },
  {
   "cell_type": "code",
   "execution_count": null,
   "metadata": {
    "ExecuteTime": {
     "end_time": "2024-05-06T05:36:34.027278Z",
     "start_time": "2024-05-06T05:36:34.018818Z"
    }
   },
   "outputs": [],
   "source": [
    "from konnektor.network_planners import StarNetworkGenerator\n",
    "ligand_network_planner = StarNetworkGenerator(mapper=KartografAtomMapper(), scorer=scorer)"
   ]
  },
  {
   "cell_type": "code",
   "execution_count": null,
   "metadata": {
    "ExecuteTime": {
     "end_time": "2024-05-06T05:37:02.472936Z",
     "start_time": "2024-05-06T05:36:34.032085Z"
    }
   },
   "outputs": [],
   "source": [
    "radial_network = ligand_network_planner(compounds)\n",
    "radial_network.name=\"Star Network\"\n",
    "radial_network"
   ]
  },
  {
   "cell_type": "code",
   "execution_count": null,
   "metadata": {
    "ExecuteTime": {
     "end_time": "2024-05-06T05:37:05.768326Z",
     "start_time": "2024-05-06T05:37:02.475328Z"
    },
    "collapsed": false
   },
   "outputs": [],
   "source": [
    "# NBVAL_SKIP\n",
    "draw_network_widget(radial_network);"
   ]
  },
  {
   "cell_type": "markdown",
   "metadata": {},
   "source": [
    "S## Starry Sky Network Layout"
   ]
  },
  {
   "cell_type": "code",
   "execution_count": null,
   "metadata": {},
   "outputs": [],
   "source": [
    "from konnektor.network_planners import StarrySkyNetworkGenerator\n",
    "\n",
    "ligand_network_planner = StarrySkyNetworkGenerator(mapper=KartografAtomMapper(), \n",
    "                                                       scorer=scorer)"
   ]
  },
  {
   "cell_type": "code",
   "execution_count": null,
   "metadata": {
    "ExecuteTime": {
     "end_time": "2024-05-06T05:37:36.006751Z",
     "start_time": "2024-05-06T05:37:05.801391Z"
    }
   },
   "outputs": [],
   "source": [
    "starry_sky_network = ligand_network_planner(compounds)\n",
    "starry_sky_network.name=\"Starry Sky Network\"\n",
    "starry_sky_network"
   ]
  },
  {
   "cell_type": "code",
   "execution_count": null,
   "metadata": {
    "ExecuteTime": {
     "end_time": "2024-05-06T05:37:40.920063Z",
     "start_time": "2024-05-06T05:37:36.009917Z"
    }
   },
   "outputs": [],
   "source": [
    "# NBVAL_SKIP\n",
    "draw_network_widget(starry_sky_network);"
   ]
  },
  {
   "cell_type": "markdown",
   "metadata": {},
   "source": [
    "# Minimal Spanning Tree"
   ]
  },
  {
   "cell_type": "code",
   "execution_count": null,
   "metadata": {},
   "outputs": [],
   "source": [
    "from konnektor.network_planners import MinimalSpanningTreeNetworkGenerator\n",
    "\n",
    "ligand_network_planner = MinimalSpanningTreeNetworkGenerator(mapper=KartografAtomMapper(), scorer=scorer)\n"
   ]
  },
  {
   "cell_type": "code",
   "execution_count": null,
   "metadata": {
    "ExecuteTime": {
     "end_time": "2024-05-06T05:38:08.087119Z",
     "start_time": "2024-05-06T05:37:41.011306Z"
    }
   },
   "outputs": [],
   "source": [
    "mst_network = ligand_network_planner(compounds)\n",
    "mst_network.name=\"Min Spanning Tree Network\"\n",
    "mst_network"
   ]
  },
  {
   "cell_type": "code",
   "execution_count": null,
   "metadata": {
    "ExecuteTime": {
     "end_time": "2024-05-06T05:38:11.501186Z",
     "start_time": "2024-05-06T05:38:08.089815Z"
    }
   },
   "outputs": [],
   "source": [
    "# NBVAL_SKIP\n",
    "draw_network_widget(mst_network, layout=\"breadthfirst\");"
   ]
  },
  {
   "cell_type": "markdown",
   "metadata": {
    "collapsed": false
   },
   "source": [
    "# Redundant MST"
   ]
  },
  {
   "cell_type": "code",
   "execution_count": null,
   "metadata": {
    "collapsed": false
   },
   "outputs": [],
   "source": [
    "from konnektor.network_planners import RedundantMinimalSpanningTreeNetworkGenerator\n",
    "\n",
    "ligand_network_planner = (RedundantMinimalSpanningTreeNetworkGenerator\n",
    "                          (mapper=KartografAtomMapper(), scorer=scorer,\n",
    "                           n_redundancy=2))\n"
   ]
  },
  {
   "cell_type": "code",
   "execution_count": null,
   "metadata": {
    "ExecuteTime": {
     "end_time": "2024-05-06T05:38:42.149768Z",
     "start_time": "2024-05-06T05:38:11.537971Z"
    },
    "collapsed": false
   },
   "outputs": [],
   "source": [
    "rmst_network = ligand_network_planner(compounds)\n",
    "rmst_network.name=\"Redundant Min Spanning Tree Network\"\n",
    "rmst_network"
   ]
  },
  {
   "cell_type": "code",
   "execution_count": null,
   "metadata": {
    "ExecuteTime": {
     "end_time": "2024-05-06T05:38:49.895734Z",
     "start_time": "2024-05-06T05:38:42.151942Z"
    },
    "collapsed": false
   },
   "outputs": [],
   "source": [
    "# NBVAL_SKIP\n",
    "draw_network_widget(rmst_network);"
   ]
  },
  {
   "cell_type": "markdown",
   "metadata": {},
   "source": [
    "# Cyclo Graphs"
   ]
  },
  {
   "cell_type": "code",
   "execution_count": null,
   "metadata": {},
   "outputs": [],
   "source": [
    "from konnektor.network_planners import CyclicNetworkGenerator\n",
    "ligand_network_planner = CyclicNetworkGenerator(mapper=KartografAtomMapper(), scorer=scorer,\n",
    "                                                    cycle_sizes=3, node_present_in_cycles=2)"
   ]
  },
  {
   "cell_type": "code",
   "execution_count": null,
   "metadata": {
    "ExecuteTime": {
     "end_time": "2024-05-06T05:39:24.832151Z",
     "start_time": "2024-05-06T05:38:49.930617Z"
    }
   },
   "outputs": [],
   "source": [
    "cyclic_network = ligand_network_planner.generate_ligand_network(compounds)\n",
    "cyclic_network.name=\"Cyclic Network\"\n",
    "cyclic_network"
   ]
  },
  {
   "cell_type": "code",
   "execution_count": null,
   "metadata": {
    "ExecuteTime": {
     "end_time": "2024-05-06T05:39:32.564751Z",
     "start_time": "2024-05-06T05:39:24.836107Z"
    }
   },
   "outputs": [],
   "source": [
    "# NBVAL_SKIP\n",
    "draw_network_widget(cyclic_network);"
   ]
  },
  {
   "cell_type": "markdown",
   "metadata": {},
   "source": [
    "# Maximally connected network"
   ]
  },
  {
   "cell_type": "code",
   "execution_count": null,
   "metadata": {},
   "outputs": [],
   "source": [
    "import logging\n",
    "from konnektor.network_planners import MaximalNetworkGenerator\n",
    "from kartograf.atom_mapper import logger\n",
    "logger.setLevel(logging.ERROR)\n",
    "\n",
    "ligand_network_planner = MaximalNetworkGenerator(mapper=KartografAtomMapper(), scorer=scorer)\n",
    "ligand_network_planner.nprocesses = 3\n"
   ]
  },
  {
   "cell_type": "code",
   "execution_count": null,
   "metadata": {},
   "outputs": [],
   "source": [
    "len(compounds)*len(compounds)//2"
   ]
  },
  {
   "cell_type": "code",
   "execution_count": null,
   "metadata": {
    "ExecuteTime": {
     "end_time": "2024-05-06T05:39:46.983832Z",
     "start_time": "2024-05-06T05:39:32.640940Z"
    }
   },
   "outputs": [],
   "source": [
    "max_network = ligand_network_planner(compounds)\n",
    "max_network.name = \"Maximal Network\"\n",
    "max_network"
   ]
  },
  {
   "cell_type": "code",
   "execution_count": null,
   "metadata": {
    "ExecuteTime": {
     "end_time": "2024-05-06T05:40:51.015617Z",
     "start_time": "2024-05-06T05:39:46.987251Z"
    },
    "collapsed": false
   },
   "outputs": [],
   "source": [
    "# NBVAL_SKIP\n",
    "draw_network_widget(max_network, layout=\"concentric\");"
   ]
  },
  {
   "cell_type": "markdown",
   "metadata": {
    "collapsed": false
   },
   "source": [
    "# Diversity Cluster Network"
   ]
  },
  {
   "cell_type": "code",
   "execution_count": null,
   "metadata": {
    "collapsed": false
   },
   "outputs": [],
   "source": [
    "from konnektor.network_planners import ClusteredNetworkGenerator\n",
    "from konnektor.network_planners import CyclicNetworkGenerator\n",
    "from konnektor.network_planners import MstConcatenator\n",
    "\n",
    "sub_network_planner = CyclicNetworkGenerator(mapper=KartografAtomMapper(), scorer=scorer)\n",
    "network_concatenator = MstConcatenator(mapper=KartografAtomMapper(), scorer=scorer)\n",
    "ligand_network_planner = ClusteredNetworkGenerator(sub_network_planners=sub_network_planner, concatenator=network_concatenator)"
   ]
  },
  {
   "cell_type": "code",
   "execution_count": null,
   "metadata": {
    "ExecuteTime": {
     "end_time": "2024-05-06T05:41:31.712580Z",
     "start_time": "2024-05-06T05:40:51.070237Z"
    },
    "collapsed": false
   },
   "outputs": [],
   "source": [
    "div_network = ligand_network_planner(compounds)\n",
    "div_network.name = \"Diversity Clustering Network\"\n",
    "div_network"
   ]
  },
  {
   "cell_type": "code",
   "execution_count": null,
   "metadata": {
    "ExecuteTime": {
     "end_time": "2024-05-06T05:41:41.174858Z",
     "start_time": "2024-05-06T05:41:31.715725Z"
    }
   },
   "outputs": [],
   "source": [
    "# NBVAL_SKIP\n",
    "draw_network_widget(div_network);"
   ]
  },
  {
   "cell_type": "markdown",
   "metadata": {},
   "source": [
    "# Summary"
   ]
  },
  {
   "cell_type": "code",
   "execution_count": null,
   "metadata": {
    "ExecuteTime": {
     "end_time": "2024-05-06T05:41:43.826848Z",
     "start_time": "2024-05-06T05:41:41.188283Z"
    }
   },
   "outputs": [],
   "source": [
    "from matplotlib import pyplot as plt\n",
    "fig, axes = plt.subplots(ncols=4, nrows=2, figsize=[9*4,2*9])\n",
    "axes= np.array(axes).flat\n",
    "\n",
    "fs = 22\n",
    "for ax, net in zip(axes, [radial_network, starry_sky_network, \n",
    "                          mst_network, rmst_network,\n",
    "                          cyclic_network, div_network,\n",
    "                          max_network]):\n",
    "    draw_ligand_network(network=net, title=net.name, ax=ax, node_size=1500)\n",
    "    ax.axis(\"off\")\n",
    "axes[-1].axis(\"off\")\n"
   ]
  },
  {
   "cell_type": "code",
   "execution_count": null,
   "metadata": {
    "ExecuteTime": {
     "end_time": "2024-05-06T05:41:52.782572Z",
     "start_time": "2024-05-06T05:41:43.830801Z"
    }
   },
   "outputs": [],
   "source": [
    "# NBVAL_SKIP\n",
    "fig.savefig(\"../.img/network_layouts.png\", dpi=400)"
   ]
  },
  {
   "cell_type": "code",
   "execution_count": null,
   "metadata": {
    "ExecuteTime": {
     "end_time": "2024-05-06T05:41:52.789208Z",
     "start_time": "2024-05-06T05:41:52.785612Z"
    },
    "collapsed": false
   },
   "outputs": [],
   "source": []
  }
 ],
 "metadata": {
  "kernelspec": {
   "display_name": "Python 3 (ipykernel)",
   "language": "python",
   "name": "python3"
  },
  "language_info": {
   "codemirror_mode": {
    "name": "ipython",
    "version": 3
   },
   "file_extension": ".py",
   "mimetype": "text/x-python",
   "name": "python",
   "nbconvert_exporter": "python",
   "pygments_lexer": "ipython3",
   "version": "3.11.9"
  }
 },
 "nbformat": 4,
 "nbformat_minor": 4
}
