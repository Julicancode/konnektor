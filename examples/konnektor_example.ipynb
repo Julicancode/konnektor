{
 "cells": [
  {
   "cell_type": "markdown",
   "metadata": {
    "collapsed": false
   },
   "source": [
    "# Konnektor - Building Ligand Networks\n",
    "\n",
    "this is Konnektor, which you can use to construct different types of Networks."
   ]
  },
  {
   "cell_type": "code",
   "outputs": [],
   "source": [
    "# NBVAL_SKIP\n",
    "# Only run this cell if on google colab\n",
    "import os\n",
    "if \"COLAB_RELEASE_TAG\" in os.environ:\n",
    "    !pip install -U https://github.com/conda-incubator/condacolab/archive/cuda-version-12.tar.gz\n",
    "    import condacolab\n",
    "    condacolab.install_mambaforge()\n",
    "    !wget -q https://raw.githubusercontent.com/OpenFreeEnergy/konnektor/main/examples/environment.yaml\n",
    "    !mamba env update -q --name=base --file=environment.yaml\n",
    "    \n",
    "from google.colab import output\n",
    "output.enable_custom_widget_manager()"
   ],
   "metadata": {
    "collapsed": false
   },
   "execution_count": null
  },
  {
   "cell_type": "code",
   "execution_count": null,
   "metadata": {
    "collapsed": false
   },
   "outputs": [],
   "source": [
    "import numpy as np\n",
    "from rdkit import Chem\n",
    "\n",
    "try:\n",
    "    from kartograf import KartografAtomMapper, MappingRMSDScorer\n",
    "except ModuleNotFoundError:\n",
    "    !{sys.executable} -m pip install git+https://github.com/OpenFreeEnergy/kartograf.git\n",
    "    from kartograf import KartografAtomMapper, MappingRMSDScorer\n",
    "\n",
    "\n",
    "import logging\n",
    "from kartograf.atom_mapper import logger\n",
    "logger.setLevel(logging.ERROR)\n"
   ]
  },
  {
   "cell_type": "code",
   "execution_count": null,
   "metadata": {
    "collapsed": false
   },
   "outputs": [],
   "source": [
    "from kartograf import SmallMoleculeComponent\n",
    "from konnektor.visualization import draw_ligand_network, draw_network_widget\n",
    "\n",
    "mapper = KartografAtomMapper()\n",
    "scorer = MappingRMSDScorer()\n",
    "\n",
    "from konnektor.data import get_benzene_ligands\n",
    "compounds = get_benzene_ligands()\n",
    "compounds = list(filter(lambda x: not x.name in [\"lig_2\", \"lig_3\", \"lig_4\", \"lig_7\"], compounds))\n",
    "Chem.Draw.MolsToGridImage ([c.to_rdkit() for c in compounds], )"
   ]
  },
  {
   "cell_type": "markdown",
   "metadata": {},
   "source": [
    "# Radial Network Layout"
   ]
  },
  {
   "cell_type": "code",
   "execution_count": null,
   "metadata": {},
   "outputs": [],
   "source": [
    "from konnektor.network_planners import StarNetworkGenerator\n",
    "ligand_network_planner = StarNetworkGenerator(mapper=mapper, scorer=scorer, \n",
    "                                       n_processes=1)"
   ]
  },
  {
   "cell_type": "code",
   "execution_count": null,
   "metadata": {},
   "outputs": [],
   "source": [
    "radial_network = ligand_network_planner(compounds)\n",
    "radial_network.name=\"Star Network\"\n",
    "radial_network"
   ]
  },
  {
   "cell_type": "code",
   "execution_count": null,
   "metadata": {
    "collapsed": false
   },
   "outputs": [],
   "source": [
    "# NBVAL_SKIP\n",
    "draw_network_widget(radial_network);"
   ]
  },
  {
   "cell_type": "markdown",
   "source": [
    "## Cyclic Network Layout"
   ],
   "metadata": {
    "collapsed": false
   }
  },
  {
   "cell_type": "code",
   "outputs": [],
   "source": [
    "from konnektor.network_planners import CyclicNetworkGenerator\n",
    "\n",
    "ligand_network_planner = CyclicNetworkGenerator(mapper=mapper, \n",
    "                                                       scorer=scorer)"
   ],
   "metadata": {
    "collapsed": false
   },
   "execution_count": null
  },
  {
   "cell_type": "code",
   "outputs": [],
   "source": [
    "cyclic_network = ligand_network_planner(compounds)\n",
    "cyclic_network.name=\"Cyclic Network\"\n",
    "cyclic_network"
   ],
   "metadata": {
    "collapsed": false
   },
   "execution_count": null
  },
  {
   "cell_type": "code",
   "outputs": [],
   "source": [
    "# NBVAL_SKIP\n",
    "draw_network_widget(cyclic_network);"
   ],
   "metadata": {
    "collapsed": false
   }
  },
  {
   "cell_type": "markdown",
   "metadata": {},
   "source": [
    "## Starry Sky Network Layout"
   ]
  },
  {
   "cell_type": "code",
   "execution_count": null,
   "metadata": {},
   "outputs": [],
   "source": [
    "from konnektor.network_planners import StarrySkyNetworkGenerator\n",
    "\n",
    "ligand_network_planner = StarrySkyNetworkGenerator(mapper=mapper, \n",
    "                                                       scorer=scorer)"
   ]
  },
  {
   "cell_type": "code",
   "execution_count": null,
   "metadata": {},
   "outputs": [],
   "source": [
    "starry_sky_network = ligand_network_planner(compounds)\n",
    "starry_sky_network.name=\"Starry Sky Network\"\n",
    "starry_sky_network"
   ]
  },
  {
   "cell_type": "code",
   "execution_count": null,
   "metadata": {},
   "outputs": [],
   "source": [
    "# NBVAL_SKIP\n",
    "draw_network_widget(starry_sky_network);"
   ]
  },
  {
   "cell_type": "code",
   "execution_count": null,
   "metadata": {
    "collapsed": false
   },
   "outputs": [],
   "source": []
  }
 ],
 "metadata": {
  "kernelspec": {
   "display_name": "Python 3 (ipykernel)",
   "language": "python",
   "name": "python3"
  },
  "language_info": {
   "codemirror_mode": {
    "name": "ipython",
    "version": 3
   },
   "file_extension": ".py",
   "mimetype": "text/x-python",
   "name": "python",
   "nbconvert_exporter": "python",
   "pygments_lexer": "ipython3",
   "version": "3.11.9"
  }
 },
 "nbformat": 4,
 "nbformat_minor": 4
}
